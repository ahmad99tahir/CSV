{
 "cells": [
  {
   "cell_type": "code",
   "execution_count": 2,
   "metadata": {},
   "outputs": [
    {
     "name": "stdout",
     "output_type": "stream",
     "text": [
      "['Rizwan', 'Keeper', 'Pakistan']\n",
      "['Babar', 'Batter', 'Pakistan']\n",
      "['Virat', 'Batter', ' India']\n",
      "['Shaheen', 'Bowler', 'Pakistan']\n",
      "['Bumrah', 'Bowler', 'India']\n",
      "['Rahul', 'Keeper', 'India']\n",
      "['Buttler', 'Keeper', 'England']\n",
      "['Stokes', 'Allrounder', 'England']\n",
      "['Maxwell', 'Allrounder', 'Australia']\n",
      "['Hasaranga', 'Bowler', 'Srilanka']\n"
     ]
    }
   ],
   "source": [
    "import csv\n",
    "\n",
    "with open('Players.csv', newline='') as f:\n",
    "    csvfile = csv.reader(f)\n",
    "    \n",
    "    for row in csvfile:\n",
    "        print(row)"
   ]
  },
  {
   "cell_type": "code",
   "execution_count": 3,
   "metadata": {},
   "outputs": [],
   "source": [
    "# Open the file in write mode\n",
    "with open(\"output.csv\", \"w\") as csv_file:\n",
    "    # Create a writer object\n",
    "    csv_writer = csv.writer(csv_file)\n",
    "    # Write the data to the file\n",
    "    csv_writer.writerow([\"Name\", \"Jersey\", \"Team\"])\n",
    "    csv_writer.writerow([\"Babar Azam\", 56, \"Peshawar Zalmi\"])\n",
    "    csv_writer.writerow([\"Shaheen Afridi\", 10, \"Lahore Qalandars\"])\n",
    "    csv_writer.writerow([\"Muhammad Rizwan\", 16, \"Multan Sultans\"])\n",
    "    csv_writer.writerow([\"Shadab Khan\", 7, \"Islamabad United\"])"
   ]
  },
  {
   "cell_type": "code",
   "execution_count": 13,
   "metadata": {},
   "outputs": [],
   "source": [
    "# Open the file in append mode\n",
    "with open(\"output.csv\", \"a\") as csv_file:\n",
    "    # Create a writer object\n",
    "    csv_writer = csv.writer(csv_file)\n",
    "    # Write the new data to the file\n",
    "    csv_writer.writerow([\"Sarfaraz Ahmed\", 54, \"Quetta Gladiators\"])\n",
    "    csv_writer.writerow([\"Muhammad Nawaz\", 21, \"Karachi Kings\"])"
   ]
  },
  {
   "cell_type": "code",
   "execution_count": 14,
   "metadata": {},
   "outputs": [],
   "source": [
    "# Open the file in write mode\n",
    "with open(\"output1.csv\", \"w\", newline = \"\") as csv_file:\n",
    "    # Create a writer object, using the builtin dialect\n",
    "    csv_writer = csv.writer(csv_file, dialect=\"excel\")\n",
    "    # Write the data to the file\n",
    "    csv_writer.writerow([\"Name\", \"Age\", \"Country\"])\n",
    "    csv_writer.writerow([\"John Doe\", 30, \"United States\"])\n",
    "    csv_writer.writerow([\"Jane Doe\", 28, \"Canada\"])"
   ]
  },
  {
   "cell_type": "code",
   "execution_count": 15,
   "metadata": {},
   "outputs": [],
   "source": [
    "# Open the file in write mode\n",
    "with open(\"output2.csv\", \"w\", newline = \"\") as csv_file:\n",
    "    # Create a writer object, using the builtin dialect\n",
    "    csv_writer = csv.writer(csv_file, dialect=\"excel-tab\")\n",
    "    # Write the data to the file\n",
    "    csv_writer.writerow([\"Name\", \"Age\", \"Country\"])\n",
    "    csv_writer.writerow([\"John Doe\", 30, \"United States\"])\n",
    "    csv_writer.writerow([\"Jane Doe\", 28, \"Canada\"])"
   ]
  },
  {
   "cell_type": "code",
   "execution_count": 16,
   "metadata": {},
   "outputs": [],
   "source": [
    "# Open the file in write mode\n",
    "with open(\"output3.csv\", \"w\", newline = \"\") as csv_file:\n",
    "    # Create a writer object, using the builtin dialect\n",
    "    csv_writer = csv.writer(csv_file, dialect=\"unix\")\n",
    "    # Write the data to the file\n",
    "    csv_writer.writerow([\"Name\", \"Age\", \"Country\"])\n",
    "    csv_writer.writerow([\"John Doe\", 30, \"United States\"])\n",
    "    csv_writer.writerow([\"Jane Doe\", 28, \"Canada\"])"
   ]
  },
  {
   "cell_type": "code",
   "execution_count": 18,
   "metadata": {},
   "outputs": [],
   "source": [
    "# Define the custom dialect\n",
    "my_dialect = csv.register_dialect(\"my_dialect\",\n",
    "    delimiter=\";\",\n",
    "    quotechar='\"',\n",
    "    quoting=csv.QUOTE_MINIMAL\n",
    ")\n",
    "# Open the file in write mode\n",
    "with open(\"output4.csv\", \"w\") as csv_file:\n",
    "    # Create a writer object, using the custom dialect\n",
    "    csv_writer = csv.writer(csv_file, dialect=\"my_dialect\")\n",
    "    # Write the data to the file\n",
    "    csv_writer.writerow([\"Name\", \"Age\", \"Country\"])\n",
    "    csv_writer.writerow([\"John Doe\", 30, \"United States\"])\n",
    "    csv_writer.writerow([\"Jane Doe\", 28, \"Canada\"])"
   ]
  },
  {
   "cell_type": "code",
   "execution_count": 22,
   "metadata": {},
   "outputs": [
    {
     "name": "stdout",
     "output_type": "stream",
     "text": [
      "['Rizwan,Keeper,Pakistan']\n",
      "['Babar,Batter,Pakistan']\n",
      "['Virat,Batter, India']\n",
      "['Shaheen,Bowler,Pakistan']\n",
      "['Bumrah,Bowler,India']\n",
      "['Rahul,Keeper,India']\n",
      "['Buttler,Keeper,England']\n",
      "['Stokes,Allrounder,England']\n",
      "['Maxwell,Allrounder,Australia']\n",
      "['Hasaranga,Bowler,Srilanka']\n"
     ]
    }
   ],
   "source": [
    "# Open the file in read mode\n",
    "with open(\"Players.csv\", \"r\") as csv_file:\n",
    "    # Create a reader object, using the custom dialect\n",
    "    csv_reader = csv.reader(csv_file, dialect='my_dialect')\n",
    "    # Read the data from the file\n",
    "    for row in csv_reader:\n",
    "        # Process the data in the row\n",
    "        print(row)"
   ]
  },
  {
   "cell_type": "code",
   "execution_count": null,
   "metadata": {},
   "outputs": [],
   "source": []
  }
 ],
 "metadata": {
  "kernelspec": {
   "display_name": "Python 3",
   "language": "python",
   "name": "python3"
  },
  "language_info": {
   "codemirror_mode": {
    "name": "ipython",
    "version": 3
   },
   "file_extension": ".py",
   "mimetype": "text/x-python",
   "name": "python",
   "nbconvert_exporter": "python",
   "pygments_lexer": "ipython3",
   "version": "3.11.2"
  }
 },
 "nbformat": 4,
 "nbformat_minor": 2
}
